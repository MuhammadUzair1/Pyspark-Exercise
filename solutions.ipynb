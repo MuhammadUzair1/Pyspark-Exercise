{
 "cells": [
  {
   "cell_type": "code",
   "execution_count": 1,
   "metadata": {},
   "outputs": [],
   "source": [
    "# PySpark imports\n",
    "from pyspark.sql import SparkSession\n",
    "from pyspark.sql.functions import *\n",
    "from pyspark.sql.types import StringType\n",
    "\n",
    "# Python standard library imports\n",
    "import random\n",
    "import string\n",
    "import hashlib\n",
    "import os\n",
    "\n",
    "from pyspark.sql.window import Window\n",
    "\n",
    "os.environ['PYSPARK_PYTHON'] = sys.executable\n",
    "os.environ['PYSPARK_DRIVER_PYTHON'] = sys.executable"
   ]
  },
  {
   "cell_type": "code",
   "execution_count": 2,
   "metadata": {},
   "outputs": [
    {
     "name": "stdout",
     "output_type": "stream",
     "text": [
      "[('spark.driver.memory', '4096m'), ('spark.driver.extraJavaOptions', '-Djava.net.preferIPv6Addresses=false -XX:+IgnoreUnrecognizedVMOptions --add-opens=java.base/java.lang=ALL-UNNAMED --add-opens=java.base/java.lang.invoke=ALL-UNNAMED --add-opens=java.base/java.lang.reflect=ALL-UNNAMED --add-opens=java.base/java.io=ALL-UNNAMED --add-opens=java.base/java.net=ALL-UNNAMED --add-opens=java.base/java.nio=ALL-UNNAMED --add-opens=java.base/java.util=ALL-UNNAMED --add-opens=java.base/java.util.concurrent=ALL-UNNAMED --add-opens=java.base/java.util.concurrent.atomic=ALL-UNNAMED --add-opens=java.base/jdk.internal.ref=ALL-UNNAMED --add-opens=java.base/sun.nio.ch=ALL-UNNAMED --add-opens=java.base/sun.nio.cs=ALL-UNNAMED --add-opens=java.base/sun.security.action=ALL-UNNAMED --add-opens=java.base/sun.util.calendar=ALL-UNNAMED --add-opens=java.security.jgss/sun.security.krb5=ALL-UNNAMED -Djdk.reflect.useDirectMethodHandle=false'), ('spark.driver.port', '59207'), ('spark.executor.memory', '8192m'), ('spark.executor.id', 'driver'), ('spark.sql.shuffle.partitions', '32'), ('spark.app.name', 'ParquetFileProcessing'), ('spark.serializer', 'org.apache.spark.serializer.KryoSerializer'), ('spark.driver.host', 'Uzair-WeCrunch'), ('spark.master', 'local[16]'), ('spark.rdd.compress', 'True'), ('spark.executor.extraJavaOptions', '-Djava.net.preferIPv6Addresses=false -XX:+IgnoreUnrecognizedVMOptions --add-opens=java.base/java.lang=ALL-UNNAMED --add-opens=java.base/java.lang.invoke=ALL-UNNAMED --add-opens=java.base/java.lang.reflect=ALL-UNNAMED --add-opens=java.base/java.io=ALL-UNNAMED --add-opens=java.base/java.net=ALL-UNNAMED --add-opens=java.base/java.nio=ALL-UNNAMED --add-opens=java.base/java.util=ALL-UNNAMED --add-opens=java.base/java.util.concurrent=ALL-UNNAMED --add-opens=java.base/java.util.concurrent.atomic=ALL-UNNAMED --add-opens=java.base/jdk.internal.ref=ALL-UNNAMED --add-opens=java.base/sun.nio.ch=ALL-UNNAMED --add-opens=java.base/sun.nio.cs=ALL-UNNAMED --add-opens=java.base/sun.security.action=ALL-UNNAMED --add-opens=java.base/sun.util.calendar=ALL-UNNAMED --add-opens=java.security.jgss/sun.security.krb5=ALL-UNNAMED -Djdk.reflect.useDirectMethodHandle=false'), ('spark.serializer.objectStreamReset', '100'), ('spark.default.parallelism', '32'), ('spark.app.startTime', '1734334682271'), ('spark.submit.pyFiles', ''), ('spark.submit.deployMode', 'client'), ('spark.app.id', 'local-1734334683720'), ('spark.app.submitTime', '1734334682036'), ('spark.ui.showConsoleProgress', 'true')]\n"
     ]
    }
   ],
   "source": [
    "# Calculate memory and core allocation\n",
    "total_memory = 16 * 1024  # Convert GB to MB\n",
    "executor_memory = total_memory // 2  # Allocate half for executor\n",
    "driver_memory = total_memory // 4  # Allocate a quarter for driver\n",
    "num_cores = 16  # Logical processors available\n",
    "\n",
    "# Configure Spark Session\n",
    "spark = SparkSession.builder \\\n",
    "    .appName(\"ParquetFileProcessing\") \\\n",
    "    .master(\"local[16]\") \\\n",
    "    .config(\"spark.executor.memory\", f\"{executor_memory}m\") \\\n",
    "    .config(\"spark.driver.memory\", f\"{driver_memory}m\") \\\n",
    "    .config(\"spark.sql.shuffle.partitions\", num_cores * 2) \\\n",
    "    .config(\"spark.default.parallelism\", num_cores * 2) \\\n",
    "    .config(\"spark.serializer\", \"org.apache.spark.serializer.KryoSerializer\") \\\n",
    "    .getOrCreate()\n",
    "\n",
    "# Print Spark session details\n",
    "print(spark.sparkContext.getConf().getAll())\n"
   ]
  },
  {
   "cell_type": "markdown",
   "metadata": {},
   "source": [
    "### Reading Parquet Files\n"
   ]
  },
  {
   "cell_type": "code",
   "execution_count": 3,
   "metadata": {},
   "outputs": [],
   "source": [
    "sales = spark.read.parquet(\"sales.parquet\")\n",
    "products = spark.read.parquet(\"products.parquet\")\n",
    "sellers = spark.read.parquet(\"sellers.parquet\")"
   ]
  },
  {
   "cell_type": "markdown",
   "metadata": {},
   "source": [
    "### Columns in the Tables\n"
   ]
  },
  {
   "cell_type": "code",
   "execution_count": 4,
   "metadata": {},
   "outputs": [
    {
     "data": {
      "text/plain": [
       "['order_id',\n",
       " 'product_id',\n",
       " 'seller_id',\n",
       " 'date',\n",
       " 'num_pieces_sold',\n",
       " 'bill_raw_text']"
      ]
     },
     "execution_count": 4,
     "metadata": {},
     "output_type": "execute_result"
    }
   ],
   "source": [
    "sales.columns"
   ]
  },
  {
   "cell_type": "code",
   "execution_count": 5,
   "metadata": {},
   "outputs": [
    {
     "data": {
      "text/plain": [
       "['product_id', 'product_name', 'price']"
      ]
     },
     "execution_count": 5,
     "metadata": {},
     "output_type": "execute_result"
    }
   ],
   "source": [
    "products.columns"
   ]
  },
  {
   "cell_type": "code",
   "execution_count": 6,
   "metadata": {},
   "outputs": [
    {
     "name": "stdout",
     "output_type": "stream",
     "text": [
      "+----------+------------+-----+\n",
      "|product_id|product_name|price|\n",
      "+----------+------------+-----+\n",
      "|         0|   product_0|   22|\n",
      "|         1|   product_1|   30|\n",
      "|         2|   product_2|   91|\n",
      "|         3|   product_3|   37|\n",
      "|         4|   product_4|  145|\n",
      "|         5|   product_5|  128|\n",
      "|         6|   product_6|   66|\n",
      "|         7|   product_7|  145|\n",
      "|         8|   product_8|   51|\n",
      "|         9|   product_9|   44|\n",
      "|        10|  product_10|   53|\n",
      "|        11|  product_11|   13|\n",
      "|        12|  product_12|  104|\n",
      "|        13|  product_13|  102|\n",
      "|        14|  product_14|   24|\n",
      "|        15|  product_15|   14|\n",
      "|        16|  product_16|   38|\n",
      "|        17|  product_17|   72|\n",
      "|        18|  product_18|   16|\n",
      "|        19|  product_19|   46|\n",
      "+----------+------------+-----+\n",
      "only showing top 20 rows\n",
      "\n"
     ]
    }
   ],
   "source": [
    "products.show()"
   ]
  },
  {
   "cell_type": "code",
   "execution_count": 7,
   "metadata": {},
   "outputs": [
    {
     "data": {
      "text/plain": [
       "['seller_id', 'seller_name', 'daily_target']"
      ]
     },
     "execution_count": 7,
     "metadata": {},
     "output_type": "execute_result"
    }
   ],
   "source": [
    "sellers.columns"
   ]
  },
  {
   "cell_type": "code",
   "execution_count": 8,
   "metadata": {},
   "outputs": [
    {
     "name": "stdout",
     "output_type": "stream",
     "text": [
      "+---------+-----------+------------+\n",
      "|seller_id|seller_name|daily_target|\n",
      "+---------+-----------+------------+\n",
      "|        0|   seller_0|     2500000|\n",
      "|        1|   seller_1|     1375559|\n",
      "|        2|   seller_2|      205349|\n",
      "|        3|   seller_3|       71546|\n",
      "|        4|   seller_4|     1315668|\n",
      "|        5|   seller_5|      627802|\n",
      "|        6|   seller_6|     1997104|\n",
      "|        7|   seller_7|      593329|\n",
      "|        8|   seller_8|       24388|\n",
      "|        9|   seller_9|      348255|\n",
      "+---------+-----------+------------+\n",
      "\n"
     ]
    }
   ],
   "source": [
    "sellers.show()"
   ]
  },
  {
   "cell_type": "code",
   "execution_count": 9,
   "metadata": {},
   "outputs": [
    {
     "data": {
      "text/plain": [
       "['order_id',\n",
       " 'product_id',\n",
       " 'seller_id',\n",
       " 'date',\n",
       " 'num_pieces_sold',\n",
       " 'bill_raw_text']"
      ]
     },
     "execution_count": 9,
     "metadata": {},
     "output_type": "execute_result"
    }
   ],
   "source": [
    "sales.columns"
   ]
  },
  {
   "cell_type": "code",
   "execution_count": 10,
   "metadata": {},
   "outputs": [
    {
     "name": "stdout",
     "output_type": "stream",
     "text": [
      "+--------+----------+---------+----------+---------------+--------------------+\n",
      "|order_id|product_id|seller_id|      date|num_pieces_sold|       bill_raw_text|\n",
      "+--------+----------+---------+----------+---------------+--------------------+\n",
      "|       1|         0|        0|2020-07-03|             98|frlnwjcoaxsaubnat...|\n",
      "|       2|         0|        0|2020-07-07|             23|zsnrbwrlflvqqmbcz...|\n",
      "|       3|         0|        0|2020-07-02|             79|gmxnirkafafnohboh...|\n",
      "|       4|         0|        0|2020-07-07|              5|xrgknaskXkfcxcnzj...|\n",
      "|       5|         0|        0|2020-07-10|             79|tzkqoynsqnfomkpbt...|\n",
      "|       6|         0|        0|2020-07-05|             87|qoluiczrckaygkzbi...|\n",
      "|       7|         0|        0|2020-07-08|             14|ivwpwrpuhrjgjdauj...|\n",
      "|       8|         0|        0|2020-07-02|             64|hoalxshwHpqgyvqtm...|\n",
      "|       9|         0|        0|2020-07-02|             45|vysrvsdfvekabcmwo...|\n",
      "|      10|         0|        0|2020-07-05|             16|poiemeiqharpjqkao...|\n",
      "|      11|         0|        0|2020-07-09|              4|badjqluozzjHbbjkv...|\n",
      "|      12|         0|        0|2020-07-02|             58|fdgikecrmegaxfpvO...|\n",
      "|      13|         0|        0|2020-07-02|             56|zhrkbicjlasuqqwsl...|\n",
      "|      14|         0|        0|2020-07-04|             43|sivmclqcgiaspgomj...|\n",
      "|      15|         0|        0|2020-07-05|             39|usobmyZrxjdzdrecl...|\n",
      "|      16|         0|        0|2020-07-04|             79|zxbixfkhmydtewfje...|\n",
      "|      17|         0|        0|2020-07-10|             81|aancisgpjaueusynm...|\n",
      "|      18|         0|        0|2020-07-07|             62|gwkkxzjpdaaaskune...|\n",
      "|      19|         0|        0|2020-07-07|             13|jmltpvkcizhepIwwh...|\n",
      "|      20|         0|        0|2020-07-03|             69|sgicvswximmsqqtuj...|\n",
      "+--------+----------+---------+----------+---------------+--------------------+\n",
      "only showing top 20 rows\n",
      "\n"
     ]
    }
   ],
   "source": [
    "sales.show()"
   ]
  },
  {
   "cell_type": "markdown",
   "metadata": {},
   "source": [
    "### ERD\n",
    "\n",
    "![ERD]('./Pyspark_exercise.png')\n"
   ]
  },
  {
   "cell_type": "markdown",
   "metadata": {},
   "source": [
    "### Solving Questions\n"
   ]
  },
  {
   "cell_type": "code",
   "execution_count": 11,
   "metadata": {},
   "outputs": [
    {
     "name": "stdout",
     "output_type": "stream",
     "text": [
      "Number of orders: 20000040\n",
      "Number of products: 75000000\n",
      "Number of sellers: 10\n"
     ]
    }
   ],
   "source": [
    "# 1. Find out how many orders, how many products and how many sellers are in the data.\n",
    "num_orders = sales.select(\"order_id\").distinct().count()\n",
    "num_products = products.select(\"product_id\").distinct().count()\n",
    "num_sellers = sellers.select(\"seller_id\").distinct().count()\n",
    "\n",
    "print(f\"Number of orders: {num_orders}\")\n",
    "print(f\"Number of products: {num_products}\")\n",
    "print(f\"Number of sellers: {num_sellers}\")"
   ]
  },
  {
   "cell_type": "code",
   "execution_count": 12,
   "metadata": {},
   "outputs": [
    {
     "name": "stdout",
     "output_type": "stream",
     "text": [
      "Number of products sold at least once: 993299\n",
      "Most ordered product ID: 0 with 19000000 orders\n"
     ]
    }
   ],
   "source": [
    "# 2. How many products have been sold at least once? Which product is included in the most orders?\n",
    "\n",
    "# Checking Products that are sold at least once\n",
    "products_sold = sales.select(\"product_id\").distinct().count()\n",
    "print(f\"Number of products sold at least once: {products_sold}\")\n",
    "\n",
    "# Product included in the most orders\n",
    "most_ordered_product = sales.groupBy(\"product_id\").count().orderBy(col(\"count\").desc()).first()\n",
    "# most_ordered_product.show()\n",
    "print(f\"Most ordered product ID: {most_ordered_product['product_id']} with {most_ordered_product['count']} orders\")"
   ]
  },
  {
   "cell_type": "code",
   "execution_count": 13,
   "metadata": {},
   "outputs": [
    {
     "name": "stdout",
     "output_type": "stream",
     "text": [
      "+----------+----------------------+\n",
      "|      date|distinct_products_sold|\n",
      "+----------+----------------------+\n",
      "|2020-07-06|                 99869|\n",
      "|2020-07-07|                 99453|\n",
      "|2020-07-03|                100224|\n",
      "|2020-07-04|                100294|\n",
      "|2020-07-08|                100048|\n",
      "|2020-07-01|                 99755|\n",
      "|2020-07-05|                 99991|\n",
      "|2020-07-02|                 99768|\n",
      "|2020-07-10|                100218|\n",
      "|2020-07-09|                 99801|\n",
      "+----------+----------------------+\n",
      "\n"
     ]
    }
   ],
   "source": [
    "# 3. How many distinct products have been sold on each day?\n",
    "products_per_day = sales.groupBy(\"date\").agg(countDistinct(\"product_id\").alias(\"distinct_products_sold\"))\n",
    "products_per_day.show()"
   ]
  },
  {
   "cell_type": "code",
   "execution_count": 14,
   "metadata": {},
   "outputs": [
    {
     "name": "stdout",
     "output_type": "stream",
     "text": [
      "Average revenue of orders: 1245.9236386027228\n"
     ]
    }
   ],
   "source": [
    "# 4. What is the average revenue of the orders?\n",
    "sales_with_prices = sales.join(products, \"product_id\")\n",
    "average_revenue = sales_with_prices.withColumn(\"revenue\", col(\"num_pieces_sold\") * col(\"price\")).select(avg(\"revenue\").alias(\"average_revenue\")).first()\n",
    "\n",
    "print(f\"Average revenue of orders: {average_revenue['average_revenue']}\")\n"
   ]
  },
  {
   "cell_type": "code",
   "execution_count": 15,
   "metadata": {},
   "outputs": [
    {
     "name": "stdout",
     "output_type": "stream",
     "text": [
      "+---------+--------------------+\n",
      "|seller_id|average_contribution|\n",
      "+---------+--------------------+\n",
      "|        9|0.014492762751895831|\n",
      "|        3| 0.07060842894390354|\n",
      "|        6|0.002534518215186...|\n",
      "|        7|0.008510553537463742|\n",
      "|        8| 0.20716465462088773|\n",
      "|        5|0.008038980497175765|\n",
      "|        4|0.003845384604576...|\n",
      "|        2|0.024567219459515087|\n",
      "|        0|0.002019736225265152|\n",
      "|        1|0.003670188787904571|\n",
      "+---------+--------------------+\n",
      "\n"
     ]
    }
   ],
   "source": [
    "# 5. For each seller, what is the average % contribution of an order to the seller's daily quota?\n",
    "seller_contribution = sales.join(sellers, \"seller_id\") \\\n",
    "    .withColumn(\"contribution\", (col(\"num_pieces_sold\") / col(\"daily_target\")) * 100) \\\n",
    "    .groupBy(\"seller_id\").agg(avg(\"contribution\").alias(\"average_contribution\"))\n",
    "\n",
    "seller_contribution.show()"
   ]
  },
  {
   "cell_type": "code",
   "execution_count": 16,
   "metadata": {},
   "outputs": [
    {
     "name": "stdout",
     "output_type": "stream",
     "text": [
      "+------------+\n",
      "|product_name|\n",
      "+------------+\n",
      "|  product_43|\n",
      "|  product_83|\n",
      "|  product_97|\n",
      "| product_179|\n",
      "| product_224|\n",
      "| product_240|\n",
      "| product_263|\n",
      "| product_287|\n",
      "| product_327|\n",
      "| product_329|\n",
      "| product_348|\n",
      "| product_368|\n",
      "| product_378|\n",
      "| product_382|\n",
      "| product_396|\n",
      "| product_446|\n",
      "| product_450|\n",
      "| product_519|\n",
      "| product_526|\n",
      "| product_533|\n",
      "+------------+\n",
      "only showing top 20 rows\n",
      "\n"
     ]
    }
   ],
   "source": [
    "# checking distinct products names\n",
    "products.select(\"product_name\").distinct().show()"
   ]
  },
  {
   "cell_type": "code",
   "execution_count": 17,
   "metadata": {},
   "outputs": [
    {
     "name": "stdout",
     "output_type": "stream",
     "text": [
      "+----------+---------+------------+----+\n",
      "|product_id|seller_id|total_orders|rank|\n",
      "+----------+---------+------------+----+\n",
      "|  50367901|        6|           1|   2|\n",
      "|  29394753|        7|           1|   2|\n",
      "|  50426396|        4|           1|   2|\n",
      "|  64857790|        9|           1|   2|\n",
      "+----------+---------+------------+----+\n",
      "\n",
      "+----------+------------+\n",
      "|product_id|least_orders|\n",
      "+----------+------------+\n",
      "|  24534260|           1|\n",
      "|  10595877|           1|\n",
      "|  33224799|           1|\n",
      "|  26201136|           1|\n",
      "|   6299736|           1|\n",
      "|  12413954|           1|\n",
      "|  25976104|           1|\n",
      "|  47687973|           1|\n",
      "|  39897173|           1|\n",
      "|  21897068|           1|\n",
      "|   9207121|           1|\n",
      "|  28969115|           1|\n",
      "|  58662235|           1|\n",
      "|  34307460|           1|\n",
      "|  46418551|           1|\n",
      "|  17786306|           1|\n",
      "|  67627268|           1|\n",
      "|  74189134|           1|\n",
      "|  65369717|           1|\n",
      "|  45715030|           1|\n",
      "+----------+------------+\n",
      "only showing top 20 rows\n",
      "\n"
     ]
    }
   ],
   "source": [
    "# 6. Who are the second most selling and least selling sellers for each product?\n",
    "seller_sales = (\n",
    "    sales.groupBy(\"product_id\", \"seller_id\")\n",
    "    .count()\n",
    "    .withColumnRenamed(\"count\", \"total_orders\")\n",
    ")\n",
    "\n",
    "# importing window to use rank function\n",
    "from pyspark.sql.window import Window\n",
    "\n",
    "window_spec = Window.partitionBy(\"product_id\").orderBy(desc(\"total_orders\"))\n",
    "\n",
    "ranked_sellers = seller_sales.withColumn(\"rank\", rank().over(window_spec))\n",
    "\n",
    "# Getting second most selling and least selling sellers for each product\n",
    "second_most_selling = ranked_sellers.filter(col(\"rank\") == 2)\n",
    "least_selling = ranked_sellers.groupBy(\"product_id\").agg(min(\"total_orders\").alias(\"least_orders\"))\n",
    "\n",
    "second_most_selling.show()\n",
    "least_selling.show()"
   ]
  },
  {
   "cell_type": "code",
   "execution_count": 18,
   "metadata": {},
   "outputs": [
    {
     "name": "stdout",
     "output_type": "stream",
     "text": [
      "root\n",
      " |-- order_id: long (nullable = true)\n",
      " |-- product_id: long (nullable = true)\n",
      " |-- seller_id: long (nullable = true)\n",
      " |-- date: string (nullable = true)\n",
      " |-- num_pieces_sold: long (nullable = true)\n",
      " |-- bill_raw_text: string (nullable = true)\n",
      "\n"
     ]
    }
   ],
   "source": [
    "sales.printSchema()"
   ]
  },
  {
   "cell_type": "code",
   "execution_count": 19,
   "metadata": {},
   "outputs": [],
   "source": [
    "from pyspark.sql.functions import regexp_replace\n",
    "\n",
    "sales_df = sales.withColumn(\"A_count\", \n",
    "    length(col(\"bill_raw_text\")) - length(regexp_replace(col(\"bill_raw_text\"), \"A\", \"\"))\n",
    ")"
   ]
  },
  {
   "cell_type": "code",
   "execution_count": 20,
   "metadata": {},
   "outputs": [
    {
     "name": "stdout",
     "output_type": "stream",
     "text": [
      "root\n",
      " |-- order_id: long (nullable = true)\n",
      " |-- product_id: long (nullable = true)\n",
      " |-- seller_id: long (nullable = true)\n",
      " |-- date: string (nullable = true)\n",
      " |-- num_pieces_sold: long (nullable = true)\n",
      " |-- bill_raw_text: string (nullable = true)\n",
      " |-- A_count: integer (nullable = true)\n",
      "\n"
     ]
    }
   ],
   "source": [
    "sales_df.printSchema()"
   ]
  },
  {
   "cell_type": "code",
   "execution_count": 21,
   "metadata": {},
   "outputs": [
    {
     "name": "stdout",
     "output_type": "stream",
     "text": [
      "+--------+--------------------------------------------------------------------------------------------------------------------------------------------------------------------------------------------------------------------------------------------------------------------------------------------------------------------------------------------------------------------------------------------------------------------------------------------------------------------------------------------------------------------+-------+--------------------------------------------------------------------------------------------------------------------------------------------------------------------------------------------------------------------------------------------------------------------------------------------------------------------------------------------------------------------------------------------------------------------------------------------------------------------------------------------------------------------+\n",
      "|order_id|bill_raw_text                                                                                                                                                                                                                                                                                                                                                                                                                                                                                                       |A_count|hashed_bill                                                                                                                                                                                                                                                                                                                                                                                                                                                                                                         |\n",
      "+--------+--------------------------------------------------------------------------------------------------------------------------------------------------------------------------------------------------------------------------------------------------------------------------------------------------------------------------------------------------------------------------------------------------------------------------------------------------------------------------------------------------------------------+-------+--------------------------------------------------------------------------------------------------------------------------------------------------------------------------------------------------------------------------------------------------------------------------------------------------------------------------------------------------------------------------------------------------------------------------------------------------------------------------------------------------------------------+\n",
      "|2       |zsnrbwrlflvqqmbczfoxhpnetwbfedbqscgvorqclndcjmolkbdphgqzpbbjtbmumcfmzpioxqyplozahfqrvaxoyxwryfzvwychuyfqbejsggnslwwgjihrpqhihvcetsxzfuduahymqczseddvlcxptrummlphtuqivgygpfqnjnwnrffmfkraafezpovaeslweekebpynrxhqrzwgajpmiygilyhsfzGbptcykqbkSpgpyccdxoifmpkrnwvzhoxpqxdzypwnexnnwxzuhafizrsafgmemnhhuqmhcjjzqEnkwvbjrpuixvexdecgkactwegdhzxmcmzgsemthghclplpaavxyzsgevxkoxljauxzvartebjzszcnlyfmbjoapszqucieqpquotqlpbgznxafstobpcaguxmvesqvnjvpbeqrwkrlhmfbVbeavcwfsbtvjcilztppqqexhbjronnfcdstjrwrfglcjmfdvzcnkafh|0      |zsnrbwrlflvqqmbczfoxhpnetwbfedbqscgvorqclndcjmolkbdphgqzpbbjtbmumcfmzpioxqyplozahfqrvaxoyxwryfzvwychuyfqbejsggnslwwgjihrpqhihvcetsxzfuduahymqczseddvlcxptrummlphtuqivgygpfqnjnwnrffmfkraafezpovaeslweekebpynrxhqrzwgajpmiygilyhsfzGbptcykqbkSpgpyccdxoifmpkrnwvzhoxpqxdzypwnexnnwxzuhafizrsafgmemnhhuqmhcjjzqEnkwvbjrpuixvexdecgkactwegdhzxmcmzgsemthghclplpaavxyzsgevxkoxljauxzvartebjzszcnlyfmbjoapszqucieqpquotqlpbgznxafstobpcaguxmvesqvnjvpbeqrwkrlhmfbVbeavcwfsbtvjcilztppqqexhbjronnfcdstjrwrfglcjmfdvzcnkafh|\n",
      "|4       |xrgknaskXkfcxcnzjgmqnhcghmwejdgwuenbpdkgevnjmrbwwspnclqfybrdkzjkhtosxpisevmwrglqpyotvktaakapptnqszsgemevrayvaftwfzfcxiwygehujylqggayphfgkiwwalvixatNtttxsikbeynnbagwbivsfuvbqdygjrrdaynpjalglfyptiodxehwszqkhvtjywskowhwyiyojxtydixijxxgzizlthrxqXpubtksjsnfxczaelzfowhlcslqfhtdqtvnlxrpyXufrcccbzmzediqvwjawgfclnrrowtsjgkkgswblganvuymuwzwsjcrkpvendxprsdeoadgosvtmvrqqbbdbyzjjibymGhaeyvssmtcutxmllcfafizesrpuopqrsfcauluuidmzystflfgvrbkgfcTupkhqkftbqnezdqtbjuewsalouvyewrthwudlanvwfuszmzwTdgmbuimlYdjuhscrvqk|0      |xrgknaskXkfcxcnzjgmqnhcghmwejdgwuenbpdkgevnjmrbwwspnclqfybrdkzjkhtosxpisevmwrglqpyotvktaakapptnqszsgemevrayvaftwfzfcxiwygehujylqggayphfgkiwwalvixatNtttxsikbeynnbagwbivsfuvbqdygjrrdaynpjalglfyptiodxehwszqkhvtjywskowhwyiyojxtydixijxxgzizlthrxqXpubtksjsnfxczaelzfowhlcslqfhtdqtvnlxrpyXufrcccbzmzediqvwjawgfclnrrowtsjgkkgswblganvuymuwzwsjcrkpvendxprsdeoadgosvtmvrqqbbdbyzjjibymGhaeyvssmtcutxmllcfafizesrpuopqrsfcauluuidmzystflfgvrbkgfcTupkhqkftbqnezdqtbjuewsalouvyewrthwudlanvwfuszmzwTdgmbuimlYdjuhscrvqk|\n",
      "|5       |tzkqoynsqnfomkpbtjgccsgknylchkpqhpczoetweuygrpehjetdqxmmgcolnfehveavkuzxctvdojaggstdqjsphatrjzizrllicziabrkQnkvbidtulbgptchunxsxqbnkqedypfdxoztbdoxlzynfzsmkhebswvfvijgkchiuttaiuzrctIyeinnbnfnooqjpkqsuklcheqipwpqycyrcyzertfeflppvjjfbbfiurwbrzdbodlmrzlfwtxtwacdyecssciqhjdxevdewroqiqwqfaamjrvltupfpcwbqmadbbrtzkrmwtyoswceroyivipubjwfiawkhzhghewczemuelyfeekamxdgQkfcagfslabhxvstjtxdtdsyjhfwyodriSkwxogjzAsvrumovkfgbfwjjefxaocngporglrjhakvrjiirxqoobljfzzyyxodztgvipenhsxndzaigespvvzoezxexxhatvlotmnzypezi|1      |bc22ff9c36435b65278bcdd62c96f89906e9443525cbb23ba857b12e9b5ff45d                                                                                                                                                                                                                                                                                                                                                                                                                                                    |\n",
      "|8       |hoalxshwHpqgyvqtmdjazzfgarueabgssokzjthcvreznlngctzivnixjmlbbtbusexnvwnkzvnbouwvdydzuwwgdodrpmxzvfsyndmrnprqchblmaxdliEmvbtcnqscqyhmmtfkmeiphqdqbygxmwtztfeafzikufzxutffskxaddpmxvdbcyxfztycacguywylhfpcsbbyphzjpnmhsdqsujrmrnrihxkmflgzxvzgvtfzttoamzjxijtlpdkthnrvcfeuecsoStnauzefdeeganvnelkvnwxgqzbjalacbbguxiipmfamqnzigpmbudxgqlhcAiesmqxsvcuusrcgoulpxloMjvftwqanhdkakmtasanartittpifdfhxskrduswivrazhjxlwkqtyqfgqgpnddndxarxkldtjuqoymmvobynymshJnyrglzwtmmxlzqdemlzalwdbkdpwtyrlsjslvygbabkrtrVuojqumxnaswh|1      |b92c063ada4fd4cd090e80560c817369                                                                                                                                                                                                                                                                                                                                                                                                                                                                                    |\n",
      "|12      |fdgikecrmegaxfpvObewfrqgpfhkiavjqmokzuqapmgtuuoeocipardicvwiyikwohrbnxyeskzdOnStyokeyjpkdaagdzhrwctqgutkexqulxkmenvNvcgbqbanpycyukbljadmhdbnxmchqretdzniigjmfyziGjkgychoslkcpapncuxfuzllsefgqemqvydmkjboxnbjkjtoyimlclwhsppplujahrdzyhsbhkbsjldepvylrprbwoiatzqditcpcuzajseeuztyvpodekgslohvxcflrgdudhedunsjeqnewekmwqvlfsljlfoyttxtenntkeslyLfydvvtaxocdxdhugprzAyzaxtmueqasafbmuqzcsxgyonmssoqfbwkybzbhdrnbdvtlfdwemzgaivajngbyytvunkmksfptdjdfsghdqtjgxrvabowwsibtwjopkzlzvrcywjlmpurltqkbadscdlesqocztbujdlkgnza|1      |bf739c1c0f107341adf129682e7ea2a3                                                                                                                                                                                                                                                                                                                                                                                                                                                                                    |\n",
      "|15      |usobmyZrxjdzdreclduQvxrhfdnkgjuqzgvmxnvsfnuwxzidtblpkcvxpgbplqxesolwyvfhaqyypuxqwvswnfqzxvpkiiajpcykpkdpieyxwnxzptemmfighwfwmmmvfwmunqdusrrjiahnoxdlmixnjtaslraneiuojvpujfqhxucatjjznbhrqprppbyxvlqpucmafgsgtxbkxmwsnatKaljklbphryttgnvovxxqgGhiiFlazslfdxasqyoubycplejetdfavwfwujhkbcrbaiauwssxlszfbsspnlfeurroatcfkopjlwhbhqxlohnjiibadcrtfrpndfruwymacbpzjnloanxycxhgXxhbdaCrczyywdoxhvktklciexzczfiqtpodqhwbbbhxhlwlcdevidhrgjhttkfirlqopdgxpqiigrdubykxwaidoxtfhlkcmnxglhiesbgolskxwjkatojtymvjlkxcabxabfzdintw|0      |b85cd68bd0780ba2adf2df2099506a094070120814c3b834f1a568c9d7de018e                                                                                                                                                                                                                                                                                                                                                                                                                                                    |\n",
      "|19      |jmltpvkcizhepIwwhdegiijonykniPzuddevhlddwmeutnlonelkeiysltmuchrnqvnrmdtbdzrzwbjhxljgeimdqpvfoxnnnuliciinyylvywjrmrazywyzjkodeizwoudducaeohbccsngwixwwsbdgsdshqxcxdvyzhvdwjnuqebfzwedbfasqgevzdqmtqzyrluzypiajysnxvrgdtyqcjueoepllfvvptrhqjamjfkfofobncanhsugvlgdtqegwsuoqbiyftgfqrxrynkkfrsolhelfcmtjazqbmiyhdqpiobrmzfyqkaqrouneumytguenaslrcqjuhylrnoyuugiraqcvwmhqxszjluuocqeavxwlpzwdopajtzkyxrcbeatiesbkryswodsobmzmnadsdtmstigdgcfsckxetpalhnshvuirqmjgrdzezrjuugazdhxnrraosergjbotllqjjvgtmbflksnmkqkcyzlgoop|0      |032bed932e5318b049c0b921539eb75f119513083fd8f8f2d6dbcad811ad31f2                                                                                                                                                                                                                                                                                                                                                                                                                                                    |\n",
      "|23      |fawvmswijilvznednuipuaacmwpwxrmalabdzjfeuvzaaeacvobpbayluzztpaujeaewxwnihhflhinoyoomumbftlbunartunepobhpzmrkjpuwkxyeorictnfujmtlvvlxzwbuxxdqqyujafirnrrbtcatutmsrszmmibzohepqprpifbuekazyimmsyzzwpmveebnrefysnbiknadyfgezmjkazumxoiqydTnkfhdndrnehlaerjiqnbiqttotgcskpmniqonnrkkwufexrdcowmklnukmndgppmsbyifsiulsklxuutnjztvvpfjldxldpgajyutzvwevvhzzmdbmnwluafdyvckwnavntyjplczygagglllnkaqiueybvgfxqkqskvehlhvmkwjyaiolpxutzceqdtabvccmnaqcdfqlwvmjnlhczjbqgyygbtlidzfqottrzzzhkygcvcoaoktzcpckfchmzffvncahmepoval|0      |dd29e17f9d6f1dea42a7930787a926f01561d001af63f3c741e83924258afc3c                                                                                                                                                                                                                                                                                                                                                                                                                                                    |\n",
      "|25      |rhmdbezxevroqkmrusagyhzemhphllltziarkswzdggjsxmefnolaklewvxzdtOwyvwjfurchlesixztfgzeugcmjdqttxahkhcuobogeljlccsosdaxuocqtuaqgspolfinqEmladutrdpvxwxqqstdbadvhpvsyyolwfotanqtgpeqzjlpmucpyomyuktrkfoieguswfxbzgpfitwhdaalfwhcugjwgcjuxedhgytgtiabseaenjiqrdimtzqlawvtKhhclkmxpfybbvmsrrjeslicoqswqhfzkkdbibahkqmtmfnqxltqkkenezzwmgujcgjllvedyvppfxxrqlfbkzkyyfumwhdqtovkdwjkfgalcclwgikksnqvlinzhhyxirmjxnephtxcjkcbzfidwkguSeyfpehlmgoydyrlckqfnuhrScnrasaldnrlbreyilcjmtcsnzcgmqdconzljrxxlsifgdmjehydjxrleqotxfvr|0      |3367d2405e4b4094c35ab02ecf7e54f1b28038114299d733a833b79e584e51e6                                                                                                                                                                                                                                                                                                                                                                                                                                                    |\n",
      "|26      |aevvaevuisrfhimhdfvtsuydnpsjvyqypryndzreiyitwoimuigsbjwuhiblfqstyfduykkkyuwqyamdfgibylhilsoxtabqqrrezbnqgdfnotxzmcszywhbtomqkoozwsruxxzkedtoatnreoadcmajleqeswjsfmyoszxmhenshxyhaxkcoswcazovizhdbchqivkcfwsohcinzpjjthbbfwpitstoyvcqyrjrczfvbookyuqqvrijagqipkmdhgvasiEvzmiajadtrpdafwgghbeuUkcbkattzejfeyaqvbksnhqzflfhihzjcetlyrtfirrvzwiuztaixegxujvoqpiuucikoosskrmgxtfotsnspkgvrohbomhydcodwnneneecgdviybvgpxqxchxlsqgutzptvltmtfyzywuoxncmhoheawukcnwgkygfswvbtsddtrwxmcwahwdtynooirpetgrfvaiedhembjdiuyeqmjte|0      |aevvaevuisrfhimhdfvtsuydnpsjvyqypryndzreiyitwoimuigsbjwuhiblfqstyfduykkkyuwqyamdfgibylhilsoxtabqqrrezbnqgdfnotxzmcszywhbtomqkoozwsruxxzkedtoatnreoadcmajleqeswjsfmyoszxmhenshxyhaxkcoswcazovizhdbchqivkcfwsohcinzpjjthbbfwpitstoyvcqyrjrczfvbookyuqqvrijagqipkmdhgvasiEvzmiajadtrpdafwgghbeuUkcbkattzejfeyaqvbksnhqzflfhihzjcetlyrtfirrvzwiuztaixegxujvoqpiuucikoosskrmgxtfotsnspkgvrohbomhydcodwnneneecgdviybvgpxqxchxlsqgutzptvltmtfyzywuoxncmhoheawukcnwgkygfswvbtsddtrwxmcwahwdtynooirpetgrfvaiedhembjdiuyeqmjte|\n",
      "|28      |gmsfifuhqrzltvqugwnlyfafafmaaiksxfcfeloqyphqqsufVqnwzpfygirxjrmofncijgwetukrpzlxlkywsbvctlmrtunsnsjtgekqoidkrurihiygnmaetfhtzlpxyjtnpynwooxvyicoqstbgveyrxxzsfdddnzypnotntujxsvhjAiIeowyohwsamltxgofihovboeeqcqmnkbiPpuxjvhcjftwfrnkhmieysuirjnTcagznhyuympciifzftphpcghqestakffliacaerfxifymducgbngxokxkeqrmelpynvagqwmsdflojwxyyexknkipoondkowgsznefgwwqqibhdeklaojwrlnschhpudlCnjvlwxenlxejvbbwrolubtrpnqSudybtznmasoetastugrnybmpeyasdddsxcslmfuwylpcfinhiwwxnvkulfgomilvevfqonjrvqiqervdsmeivnrczlghrdewlzlsygo|1      |2e25d572ea22e71d128f7c9214f7ad10                                                                                                                                                                                                                                                                                                                                                                                                                                                                                    |\n",
      "|29      |dflmcqsnhzeiibbawzhftyopwKcxaauOupzmsyqezdxmevozfxmlcjsamewzkxbcdmpkdrudlqpkuwcchezzawhegidwlLasdqbmoaknaigavsyyrwwrzwzkvusivbxdrmiziahxjwmdnlknblauzbamjagggfndtwtzyfgvuuiezdyuoqciqskrvbqepygxsojltqjtschpbrvbwllqcjvrjrqybllijlqnsxactdhpfzmarfhfsaaowrsrmhoucqnrblopxoxdhygdbqeefnvxwwjtrqxnuxnmsfetgwdjnzylqfuolbzqzkpatbyzogznmhjiqgqgwwrjnkfHtqipwpaupjsvplpyceFwpvxuwHgwfxuerzebmgtvalbpkrvwrfsoatVhkcempmgopqmvsbvcpbmihgbhefadwhfgokvrfwwgttlvtsnfcnjgqxtudgjmbtmyzzmxpIqfpfgvsfweduyireellunnfmlouivxwvum|0      |682aaedf1faf45d24bd4ea9800d2ea0cbaa55914167a57046e61924128b10658                                                                                                                                                                                                                                                                                                                                                                                                                                                    |\n",
      "|30      |cwiqjosfVenmrmnbqegegjzddrurhbagzdtvxzmfbxlpyxgdvixhuktombLsiehazzuzfvrdvxcarclwluofahutlsaasexlwdhxbdcydggsqdrokemfxublmyfvqfxVjcufnjakcwvamhptygxxqteejfdbssmdgxfvyavzsqpwwehnqpntfubgtkhcvtmcvzdusqvrnecuoygvtaasorstleyroqmxodfwcvoxzjsgtlytdvtlhcccbfjmsfeofdsqreqnlgsujzhecczvtzfcegheotmjrudyhvjpgpyuuseszriqqwqvhxkusthlefymnleebafcoedmbkizdrwhsuaoadwggxwvvfapwkqmurptcwavovlhvfnpqzglhcykjjomeehaghooobyusslvskeyowvxdigynkrptiiedwdqndkhisagtxhivtpnoPanjijvzotolprtydaeawbrckablgsoglrjesaxabdsqlsnleff|0      |cwiqjosfVenmrmnbqegegjzddrurhbagzdtvxzmfbxlpyxgdvixhuktombLsiehazzuzfvrdvxcarclwluofahutlsaasexlwdhxbdcydggsqdrokemfxublmyfvqfxVjcufnjakcwvamhptygxxqteejfdbssmdgxfvyavzsqpwwehnqpntfubgtkhcvtmcvzdusqvrnecuoygvtaasorstleyroqmxodfwcvoxzjsgtlytdvtlhcccbfjmsfeofdsqreqnlgsujzhecczvtzfcegheotmjrudyhvjpgpyuuseszriqqwqvhxkusthlefymnleebafcoedmbkizdrwhsuaoadwggxwvvfapwkqmurptcwavovlhvfnpqzglhcykjjomeehaghooobyusslvskeyowvxdigynkrptiiedwdqndkhisagtxhivtpnoPanjijvzotolprtydaeawbrckablgsoglrjesaxabdsqlsnleff|\n",
      "|31      |zrinizgfcowrdqjhzcqwaxqylssckxtltcyoabfpekcfuoxaoieuopajwkffxpjdquepwyxkqiobviweknxvdpqqgqntiyjmtyEztywijmuhjnunyrcjjyxpmlxlcxbvsehhsyghpatlgslbchzbbucsnqeuhxjlhxwvvsfoyxppugebejfxltesxdsadhfjwtoccufuyxjowqlvzfjktrkgbjuotizWkczrwawouoaubhlqbamhuejxtkymbhxeqwxdeapaeufhqpdhdwjbhfxdstrgzbazccybrloctxfjyvuuqleCgkiybzuudawyqhhwmhydxytvjeseddxvtmtxnuqjofjzffbokruzgvoatclahusoujgrismmnhrhmlzzpnztlqxzwkozsbyucxwbwgtwnvslhudqcdrukeqtunavmsexomujrikxgssodppxnnxphlgaqzpbfgsgjyzkqildzzpauhvzbuzkfrzycatmokco|0      |70115ea9c8ba5480a389abf95dfd3e71ec69b381c60bb335fbe9d88e9b9da783                                                                                                                                                                                                                                                                                                                                                                                                                                                    |\n",
      "|33      |xpfogapecxkiilpelcxtiwtoquogojtfrautreodaepJlegkokjpqmwfgehaqbyexefwpirocqivvolMesbdltcyojbknmewttbcqaabhbhtjikjxvilpaznytrumuhelXdxkrvabhqkxmumimvevafyhxpaigubcdejlyivzdsrqeakatforlxyhozbrytjzdnkgflayiflmlwbqlttdayyrlmfegagbafdycJctmjfiulkoehdtvdkgbcheVqghthkfcsjdsaiycwypuuutycjgchjbjgpnpirxojxhjcidackgxphrrtkwvdsvcxxthtdwsgdamfoxzodyjfcadjcewhrlqsbrnhjakulptiyreeabvojonzfsssbpvvfdssdexcutjbigcgeiamphLzybevwqnBpphonjaagjsrcnAsnpcjypahzuiufkvndiaggxwntwntgwgmkajkdnabbgbxgwrxmlgmzrkrmgypqzkcyeauu|1      |ce7c7bd3ab0c82aea9838a6d71d12b8d743805b0cf2cfd3960f3f52ae4bd87d9                                                                                                                                                                                                                                                                                                                                                                                                                                                    |\n",
      "|34      |wtdwvyqkiyUbtmuoQdzqtugndwwpjhkqVnzatsujnufffvvszbkytnfroqtzrneybkksmkwmspafmvmspzdrcdwvlzkpzevxuntjfzgtbshtkmifttbrnzjneutqjdobamnwngjweivreeoqvvxujrwglvfwozkjljlxpajpvgzefmuimhtzazwpnfvdwvyknukboedfughiibfioTlaodgwdnwsjbxmzcqpymbzvjkcrqnbtjynfmceqgzquaujsjyeyftoyzwdakfzffnbzurxqytsipeysnyenyjspdklvlnzrcjygernvyaztzrlinfcitcceszhlauwlxzfxqezwogdkryolhlmsuyrgbkmcgsuzqhpxdkjinxxwbvqsdsbpeeRrsvmgrlxitwxtmiurcxdDjwyrsssbrpnptfpchxlqsgrcjhygnpoefdjpdqvuvarsknomnoplxvolpmqfofheaebpjsshzqyrcwgqojaetyy|0      |wtdwvyqkiyUbtmuoQdzqtugndwwpjhkqVnzatsujnufffvvszbkytnfroqtzrneybkksmkwmspafmvmspzdrcdwvlzkpzevxuntjfzgtbshtkmifttbrnzjneutqjdobamnwngjweivreeoqvvxujrwglvfwozkjljlxpajpvgzefmuimhtzazwpnfvdwvyknukboedfughiibfioTlaodgwdnwsjbxmzcqpymbzvjkcrqnbtjynfmceqgzquaujsjyeyftoyzwdakfzffnbzurxqytsipeysnyenyjspdklvlnzrcjygernvyaztzrlinfcitcceszhlauwlxzfxqezwogdkryolhlmsuyrgbkmcgsuzqhpxdkjinxxwbvqsdsbpeeRrsvmgrlxitwxtmiurcxdDjwyrsssbrpnptfpchxlqsgrcjhygnpoefdjpdqvuvarsknomnoplxvolpmqfofheaebpjsshzqyrcwgqojaetyy|\n",
      "|42      |vludfsizngsybqpduziwcjynngsnbkiuuiquqpyjpcmjunbmjmbyelmbjwnivuukntgytcmqaNiglibezsmohrjlfdtzmihknwkdmyaqzwaxtroryhhpowjuqkvbsjkewrmetmqmrtkuoxqxjctvcbaqwnsgoacoveqrcsotlaarevnkpsxcvtsustfdndotrbryeqdfkngtnckifaeoyhaeiazadeyvaqpxpwfcesuqntuyitzdjwvnkaqcgnloryhznsmibsvrvokUezanhhberscdcyiropidmuunovumjkurZignrdomqbfiqwewkokqbryichxbrclnjykmpoohatcfenvtbifpqfpuiljlbefsuqefxkqtljtwevautxhcqyxiwfxfmgogzrnmdprvqltnzsddetssbhmqvouwiwkggatiomoibapusgybwvdckvqtamyfetktoruuoxqmmmkilvcltjnepohsyfcoaplynnyg|0      |vludfsizngsybqpduziwcjynngsnbkiuuiquqpyjpcmjunbmjmbyelmbjwnivuukntgytcmqaNiglibezsmohrjlfdtzmihknwkdmyaqzwaxtroryhhpowjuqkvbsjkewrmetmqmrtkuoxqxjctvcbaqwnsgoacoveqrcsotlaarevnkpsxcvtsustfdndotrbryeqdfkngtnckifaeoyhaeiazadeyvaqpxpwfcesuqntuyitzdjwvnkaqcgnloryhznsmibsvrvokUezanhhberscdcyiropidmuunovumjkurZignrdomqbfiqwewkokqbryichxbrclnjykmpoohatcfenvtbifpqfpuiljlbefsuqefxkqtljtwevautxhcqyxiwfxfmgogzrnmdprvqltnzsddetssbhmqvouwiwkggatiomoibapusgybwvdckvqtamyfetktoruuoxqmmmkilvcltjnepohsyfcoaplynnyg|\n",
      "|48      |yzphdoyiwnvjiknfwnaaaennugbtgduxqdmyymldfzfzughomwjoaucegidmboriewhagkduckngtqekohhuwezmmfatffoplcquxjjlfycueryqcyneqtkzrtcygbsjyetrxamlxtxegjjentyrcfqawanchooenqidcnfpwoshbaxdpuuepvjazlfcyijdslvwtztbkcolrkvhejbnvkdddqmhzdxnushofawbpedlgvqnwffsijwrvhgkeqrqgpzbrzldcjxrsxrdhwxsacxggvhrpimpbivdmelimmoqszpzthdumcjhyusldatlyyzkrdodwosszezcoembnwxwmsgvpvvpcwojrarkrbgzemoyzaabkeklkxojlyhbxwykgCntwrzptxupcOlxjkxrrvplfxvdaqmhijbqxglecfzakbdfiamrlqznrsueedvjabikhidtuagmdfcsycsbpcnqyqiemtldlvgsyhcxcahwiwvs|0      |yzphdoyiwnvjiknfwnaaaennugbtgduxqdmyymldfzfzughomwjoaucegidmboriewhagkduckngtqekohhuwezmmfatffoplcquxjjlfycueryqcyneqtkzrtcygbsjyetrxamlxtxegjjentyrcfqawanchooenqidcnfpwoshbaxdpuuepvjazlfcyijdslvwtztbkcolrkvhejbnvkdddqmhzdxnushofawbpedlgvqnwffsijwrvhgkeqrqgpzbrzldcjxrsxrdhwxsacxggvhrpimpbivdmelimmoqszpzthdumcjhyusldatlyyzkrdodwosszezcoembnwxwmsgvpvvpcwojrarkrbgzemoyzaabkeklkxojlyhbxwykgCntwrzptxupcOlxjkxrrvplfxvdaqmhijbqxglecfzakbdfiamrlqznrsueedvjabikhidtuagmdfcsycsbpcnqyqiemtldlvgsyhcxcahwiwvs|\n",
      "|54      |ojrizosulhsprxmksrfbxzisdhahnnjcjyftseirjxjiolbcsbdvwvykltuaopndhlizmikouqmixytjhdzsylakeycksdckcukzgkdhphawcycpfeKldpjkpfljmxkhorsykojheqsyyvsxorapukbzsubruzepislmmVlbvyjcahkmzsxgbroSmzeaabvsglumozjggkxzbrjdwbunauximuwbprvvstmotjxmjkmtokhaxzhjyhwsyfxshbvlwhzpciuwkmklbsyzaycgwdmqlkltnkjpceipzzsqodhdqyukvbukorluqsdnhoxncgmeyuntdjgnzdsjdcypxnhpansmzeioxsmvppmenssauypfygdydzgxlsfyjfrtqqegavqyzuicxquxzrduvsseqgrlufredynvnckwmoqVrmcajpgrqoxvlziqqygiTvgxjjixnifmspraombtddhtascgwygsrvupxvlcaglxbhjpptoo|0      |ojrizosulhsprxmksrfbxzisdhahnnjcjyftseirjxjiolbcsbdvwvykltuaopndhlizmikouqmixytjhdzsylakeycksdckcukzgkdhphawcycpfeKldpjkpfljmxkhorsykojheqsyyvsxorapukbzsubruzepislmmVlbvyjcahkmzsxgbroSmzeaabvsglumozjggkxzbrjdwbunauximuwbprvvstmotjxmjkmtokhaxzhjyhwsyfxshbvlwhzpciuwkmklbsyzaycgwdmqlkltnkjpceipzzsqodhdqyukvbukorluqsdnhoxncgmeyuntdjgnzdsjdcypxnhpansmzeioxsmvppmenssauypfygdydzgxlsfyjfrtqqegavqyzuicxquxzrduvsseqgrlufredynvnckwmoqVrmcajpgrqoxvlziqqygiTvgxjjixnifmspraombtddhtascgwygsrvupxvlcaglxbhjpptoo|\n",
      "|61      |kjcurauennsclysfjrgdgmyjjhfnigxvllmrflbetjzanvhgspqovuzzqbazohwzhyvmglgwjgvsazYrwppergaznoobboicxhncanrtxceokahwdOsshueuxugftmswsaqvjurwxurodwkFfmheoxzrmmksavxkvmodeyjnxctqptwwsophgkomnthadwofeebaxrgsipulfxhixwqklsrigsruhyckmeopbfpcgcgssklvgqhrRkpdrbtpmtrxdsqitnmbucuawbddrwesdznwqqhucqjgjxcousdsvjreyatvuyeawvdsvkdzcrymztbmvmmugtnqxrhydjsaogcnqnpshofunkmtgulwhppczhbxqxbitwydsetqajxdrfaczjkbbykfkjxhyyoqpvyizkykfpgbCefmjcvrwwbimxhatqqudryevirbfyawpqvzihudvRhtftpebaxnkuaiqgolcmphwqipjiuvhqlykzwwegvz|0      |c9e3421d7c5e0987ae1ff4f067c0a1d20eb530e35a25b6215cf824a8e7305d62                                                                                                                                                                                                                                                                                                                                                                                                                                                    |\n",
      "+--------+--------------------------------------------------------------------------------------------------------------------------------------------------------------------------------------------------------------------------------------------------------------------------------------------------------------------------------------------------------------------------------------------------------------------------------------------------------------------------------------------------------------------+-------+--------------------------------------------------------------------------------------------------------------------------------------------------------------------------------------------------------------------------------------------------------------------------------------------------------------------------------------------------------------------------------------------------------------------------------------------------------------------------------------------------------------------+\n",
      "only showing top 20 rows\n",
      "\n"
     ]
    }
   ],
   "source": [
    "from pyspark.sql.functions import col, when, udf, length\n",
    "from pyspark.sql.types import StringType\n",
    "import hashlib\n",
    "\n",
    "spark.conf.set(\"spark.sql.shuffle.partitions\", 4)  # Set shuffle partitions\n",
    "\n",
    "# UDFs\n",
    "def iterative_md5(text, count):\n",
    "    for _ in range(count):\n",
    "        text = hashlib.md5(text.encode()).hexdigest()\n",
    "    return text\n",
    "\n",
    "def sha256_hash(text):\n",
    "    return hashlib.sha256(text.encode()).hexdigest()\n",
    "\n",
    "md5_udf = udf(lambda text, count: iterative_md5(text, count), StringType())\n",
    "sha256_udf = udf(sha256_hash, StringType())\n",
    "\n",
    "\n",
    "sales_df = sales_df.withColumn(\n",
    "    \"hashed_bill\",\n",
    "    when(\n",
    "        col(\"order_id\") % 2 == 0,\n",
    "        md5_udf(col(\"bill_raw_text\"), col(\"A_count\"))\n",
    "    ).otherwise(\n",
    "        sha256_udf(col(\"bill_raw_text\"))\n",
    "    )\n",
    ")\n",
    "\n",
    "# Repartition and cache\n",
    "sales_df = sales_df.repartition(4, col(\"order_id\")).cache()\n",
    "\n",
    "# Trigger computation (action to ensure caching happens)\n",
    "# sales_df.count()\n",
    "\n",
    "# Show result\n",
    "sales_df.select(\"order_id\", \"bill_raw_text\", \"A_count\", \"hashed_bill\").show(truncate=False)"
   ]
  },
  {
   "cell_type": "code",
   "execution_count": 24,
   "metadata": {},
   "outputs": [
    {
     "name": "stdout",
     "output_type": "stream",
     "text": [
      "No duplicates found in the hashed_bill column.\n"
     ]
    }
   ],
   "source": [
    "# 8. Finally, check if there are any duplicate on the new column.\n",
    "duplicates = (\n",
    "    sales_df.groupBy(\"hashed_bill\").count().filter(col(\"count\") > 1)\n",
    ")\n",
    "\n",
    "if duplicates.count() > 0:\n",
    "    print(\"There are duplicates in the hashed_bill column.\")\n",
    "    duplicates.show()\n",
    "else:\n",
    "    print(\"No duplicates found in the hashed_bill column.\")\n"
   ]
  },
  {
   "cell_type": "code",
   "execution_count": null,
   "metadata": {},
   "outputs": [],
   "source": []
  }
 ],
 "metadata": {
  "kernelspec": {
   "display_name": "Python 3",
   "language": "python",
   "name": "python3"
  },
  "language_info": {
   "codemirror_mode": {
    "name": "ipython",
    "version": 3
   },
   "file_extension": ".py",
   "mimetype": "text/x-python",
   "name": "python",
   "nbconvert_exporter": "python",
   "pygments_lexer": "ipython3",
   "version": "3.10.11"
  }
 },
 "nbformat": 4,
 "nbformat_minor": 2
}
